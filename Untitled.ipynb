{
 "cells": [
  {
   "cell_type": "code",
   "execution_count": 26,
   "id": "b5a2206a-4c9f-4f46-b061-5f640cf8aadf",
   "metadata": {},
   "outputs": [],
   "source": [
    "import geopandas as gpd\n",
    "import pandas as pd\n",
    "import numpy as np\n",
    "import geojson\n",
    "from pathlib import Path\n",
    "from typing import Union\n",
    "from shapely.geometry import Polygon, MultiPolygon\n",
    "\n",
    "def get_sis_polygons(path:Union[Path, str],\n",
    "                     z_plane:int = None):\n",
    "    #load json\n",
    "    with open(path) as f:\n",
    "        features = geojson.load(f)\n",
    "\n",
    "    #format the features\n",
    "    format_features = [{\"geometry\":feature[\"geometry\"], \"properties\":{\"id\":feature[\"id\"], \"z_plane\":feature[\"z_plane\"]}} for feature in features['features']]\n",
    "    format_features = geojson.FeatureCollection(format_features)\n",
    "    \n",
    "    #Generate geopandas df\n",
    "    geo_df = gpd.GeoDataFrame.from_features(format_features)\n",
    "    \n",
    "    #Select a layer or take the union across all layers\n",
    "    if z_plane is None:\n",
    "        geo_df = geo_df.dissolve(by = 'id')\n",
    "    else:\n",
    "        geo_df = geo_df[geo_df['z_plane'] == str(float(z_plane))]\n",
    "        geo_df.index = geo_df['id'].astype(str)\n",
    "\n",
    "    #Remove empty and non-valid geometries\n",
    "    geo_df[(geo_df['geometry'].is_valid)  (~geo_df['geometry'].is_empty)]\n",
    "\n",
    "    #Convert mutlipolygon to polygons to get convex hull\n",
    "    geo_df['geometry'] = geo_df['geometry'].apply(lambda x: x.convex_hull if type(x) is MultiPolygon else x)\n",
    "    \n",
    "    return geo_df\n",
    "    "
   ]
  },
  {
   "cell_type": "code",
   "execution_count": 7,
   "id": "002ab21f-ae09-45cb-83a3-6ee73e55dd78",
   "metadata": {},
   "outputs": [],
   "source": [
    "geo_df = get_sis_polygons('/data/Segmetnation_Results/cell_polygons.geojson',)"
   ]
  },
  {
   "cell_type": "code",
   "execution_count": 11,
   "id": "f7af665a-0453-435f-a140-4d36b265a6a1",
   "metadata": {},
   "outputs": [
    {
     "data": {
      "text/plain": [
       "(153152, 76576, 0)"
      ]
     },
     "execution_count": 11,
     "metadata": {},
     "output_type": "execute_result"
    }
   ],
   "source": [
    "geo_df.size, geo_df['geometry'][geo_df.is_valid].size, geo_df[geo_df.is_empty].size"
   ]
  },
  {
   "cell_type": "code",
   "execution_count": 14,
   "id": "a63a49c6-9581-415d-af61-de83d0dd95ea",
   "metadata": {},
   "outputs": [
    {
     "data": {
      "text/plain": [
       "76576"
      ]
     },
     "execution_count": 14,
     "metadata": {},
     "output_type": "execute_result"
    }
   ],
   "source": [
    "geo_df['geometry'].size"
   ]
  },
  {
   "cell_type": "code",
   "execution_count": 15,
   "id": "08d10a91-9eea-4eaa-8783-fdca5bc12f51",
   "metadata": {},
   "outputs": [
    {
     "data": {
      "text/plain": [
       "153152"
      ]
     },
     "execution_count": 15,
     "metadata": {},
     "output_type": "execute_result"
    }
   ],
   "source": [
    "geo_df.size"
   ]
  },
  {
   "cell_type": "code",
   "execution_count": 18,
   "id": "21f49658-4ad9-4a5e-8a73-f2a9bb9a2a30",
   "metadata": {},
   "outputs": [
    {
     "data": {
      "text/plain": [
       "76576"
      ]
     },
     "execution_count": 18,
     "metadata": {},
     "output_type": "execute_result"
    }
   ],
   "source": [
    "geo_df['z_plane'].size"
   ]
  },
  {
   "cell_type": "code",
   "execution_count": 38,
   "id": "e13484a0-4e35-41c8-83ba-865fef781df5",
   "metadata": {},
   "outputs": [],
   "source": [
    "geo_df['geometry'] = geo_df['geometry'].apply(lambda x: x.convex_hull if type(x) is MultiPolygon else x)"
   ]
  },
  {
   "cell_type": "code",
   "execution_count": 39,
   "id": "45bfb757-d8e1-4d69-a171-80b2d65ed618",
   "metadata": {},
   "outputs": [
    {
     "data": {
      "text/plain": [
       "Polygon    76576\n",
       "Name: count, dtype: int64"
      ]
     },
     "execution_count": 39,
     "metadata": {},
     "output_type": "execute_result"
    }
   ],
   "source": [
    "geo_df['geometry'].type.value_counts()"
   ]
  },
  {
   "cell_type": "code",
   "execution_count": null,
   "id": "f840c9be-5383-4907-a12e-c9e926a1fcff",
   "metadata": {},
   "outputs": [],
   "source": []
  }
 ],
 "metadata": {
  "kernelspec": {
   "display_name": "Python 3 (ipykernel)",
   "language": "python",
   "name": "python3"
  },
  "language_info": {
   "codemirror_mode": {
    "name": "ipython",
    "version": 3
   },
   "file_extension": ".py",
   "mimetype": "text/x-python",
   "name": "python",
   "nbconvert_exporter": "python",
   "pygments_lexer": "ipython3",
   "version": "3.12.4"
  }
 },
 "nbformat": 4,
 "nbformat_minor": 5
}
